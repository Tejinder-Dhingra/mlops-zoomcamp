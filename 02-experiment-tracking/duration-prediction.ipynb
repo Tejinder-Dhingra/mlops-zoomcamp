{
 "cells": [
  {
   "cell_type": "code",
   "execution_count": 10,
   "id": "ca989412-58de-4c25-a233-1e540ace4b88",
   "metadata": {},
   "outputs": [
    {
     "name": "stdout",
     "output_type": "stream",
     "text": [
      "Found existing installation: numpy 1.26.4\n"
     ]
    },
    {
     "name": "stdout",
     "output_type": "stream",
     "text": [
      "Uninstalling numpy-1.26.4:\n",
      "  Successfully uninstalled numpy-1.26.4\n",
      "Note: you may need to restart the kernel to use updated packages.\n",
      "Collecting numpy<2\n",
      "  Using cached numpy-1.26.4-cp312-cp312-manylinux_2_17_x86_64.manylinux2014_x86_64.whl.metadata (61 kB)\n",
      "Using cached numpy-1.26.4-cp312-cp312-manylinux_2_17_x86_64.manylinux2014_x86_64.whl (18.0 MB)\n",
      "Installing collected packages: numpy\n",
      "Successfully installed numpy-1.26.4\n",
      "\n",
      "\u001b[1m[\u001b[0m\u001b[34;49mnotice\u001b[0m\u001b[1;39;49m]\u001b[0m\u001b[39;49m A new release of pip is available: \u001b[0m\u001b[31;49m24.3.1\u001b[0m\u001b[39;49m -> \u001b[0m\u001b[32;49m25.0.1\u001b[0m\n",
      "\u001b[1m[\u001b[0m\u001b[34;49mnotice\u001b[0m\u001b[1;39;49m]\u001b[0m\u001b[39;49m To update, run: \u001b[0m\u001b[32;49mpip install --upgrade pip\u001b[0m\n",
      "Note: you may need to restart the kernel to use updated packages.\n",
      "Requirement already satisfied: pyarrow in /home/codespace/.python/current/lib/python3.12/site-packages (19.0.1)\n",
      "\n",
      "\u001b[1m[\u001b[0m\u001b[34;49mnotice\u001b[0m\u001b[1;39;49m]\u001b[0m\u001b[39;49m A new release of pip is available: \u001b[0m\u001b[31;49m24.3.1\u001b[0m\u001b[39;49m -> \u001b[0m\u001b[32;49m25.0.1\u001b[0m\n",
      "\u001b[1m[\u001b[0m\u001b[34;49mnotice\u001b[0m\u001b[1;39;49m]\u001b[0m\u001b[39;49m To update, run: \u001b[0m\u001b[32;49mpip install --upgrade pip\u001b[0m\n",
      "Note: you may need to restart the kernel to use updated packages.\n"
     ]
    }
   ],
   "source": [
    "%pip uninstall numpy -y\n",
    "%pip install \"numpy<2\"\n",
    "%pip install pyarrow"
   ]
  },
  {
   "cell_type": "code",
   "execution_count": 1,
   "id": "1e40245d-9edd-470b-b074-8f9b25372504",
   "metadata": {},
   "outputs": [],
   "source": [
    "import numpy as np\n",
    "import seaborn as sns\n",
    "import matplotlib.pyplot as plt\n",
    "import pandas as pd\n",
    "from sklearn.feature_extraction import DictVectorizer\n",
    "from sklearn.linear_model import LinearRegression\n",
    "from sklearn.linear_model import Lasso\n",
    "from sklearn.linear_model import Ridge\n",
    "from sklearn.metrics import mean_squared_error\n",
    "from math import sqrt\n",
    "\n",
    "categorical = [\"PULocationID\", \"DOLocationID\"]"
   ]
  },
  {
   "cell_type": "code",
   "execution_count": 2,
   "id": "16f3a1c1-cf03-4740-9458-717cf95107c3",
   "metadata": {},
   "outputs": [],
   "source": [
    "def preprocess_data(filename, categorical_cols=[]):\n",
    "    df = pd.read_parquet(filename)\n",
    "    df[categorical_cols] = df[categorical_cols].astype(str)\n",
    "    df['duration'] = df.tpep_dropoff_datetime - df.tpep_pickup_datetime\n",
    "    df.duration = df.duration.apply(lambda td: td.total_seconds()/60)\n",
    "    dur_std_dev = round(df.duration.describe().loc['std'], 2)\n",
    "    total_prefilter = len(df)\n",
    "    df = df[(df.duration >= 1) & (df.duration <= 60)]\n",
    "    total_postfilter = len(df)\n",
    "    total_postfilter_percent = round((total_postfilter/total_prefilter) * 100)\n",
    "    return {'df':df, 'postfilter_fraction': total_postfilter_percent, 'dur_std_dev': dur_std_dev}\n",
    "    "
   ]
  },
  {
   "cell_type": "code",
   "execution_count": 3,
   "id": "a7d51c0e",
   "metadata": {},
   "outputs": [
    {
     "name": "stdout",
     "output_type": "stream",
     "text": [
      "January columns count (incl. \"duration\"): 20\n",
      "Standard deviation of trip durations: 42.59\n",
      "Fraction of records left: 98%\n"
     ]
    }
   ],
   "source": [
    "df_train = preprocess_data('https://d37ci6vzurychx.cloudfront.net/trip-data/yellow_tripdata_2023-01.parquet', categorical_cols=categorical)\n",
    "df_val = preprocess_data('https://d37ci6vzurychx.cloudfront.net/trip-data/yellow_tripdata_2023-02.parquet', categorical_cols=categorical)\n",
    "\n",
    "print(f'January columns count (incl. \"duration\"): {len(df_train[\"df\"].columns)}')\n",
    "print(f'Standard deviation of trip durations: {df_train[\"dur_std_dev\"]}')\n",
    "print(f'Fraction of records left: {df_train[\"postfilter_fraction\"]}%')\n",
    "\n",
    "df_train = df_train['df']\n",
    "df_val = df_val['df']"
   ]
  },
  {
   "cell_type": "code",
   "execution_count": 4,
   "id": "a021db9e",
   "metadata": {},
   "outputs": [
    {
     "name": "stdout",
     "output_type": "stream",
     "text": [
      "Dimensiality of train matrix (OHE): 515\n",
      "Dimensiality of validation matrix (OHE): 514\n"
     ]
    }
   ],
   "source": [
    "dv = DictVectorizer()\n",
    "\n",
    "train_dicts = df_train[categorical].to_dict(orient='records')\n",
    "X_train = dv.fit_transform(train_dicts)\n",
    "print(f'Dimensiality of train matrix (OHE): {len(dv.feature_names_)}')\n",
    "\n",
    "val_dicts = df_val[categorical].to_dict(orient='records')\n",
    "X_val = dv.fit_transform(val_dicts)\n",
    "print(f'Dimensiality of validation matrix (OHE): {len(dv.feature_names_)}')\n",
    "\n"
   ]
  },
  {
   "cell_type": "code",
   "execution_count": 5,
   "id": "93a0b26c",
   "metadata": {},
   "outputs": [
    {
     "name": "stdout",
     "output_type": "stream",
     "text": [
      "RMSE on train (LinearRegression): 7.65\n",
      "RMSE of validation (LinearRegression): 7.78\n"
     ]
    }
   ],
   "source": [
    "lr = LinearRegression()\n",
    "\n",
    "Y_train = df_train['duration'].values\n",
    "lr.fit(X_train, Y_train)\n",
    "Y_pred = lr.predict(X_train)\n",
    "\n",
    "print(f'RMSE on train (LinearRegression): {sqrt(mean_squared_error(Y_train, Y_pred)):.2f}')\n",
    "\n",
    "Y_val = df_val['duration'].values\n",
    "lr.fit(X_val, Y_val)\n",
    "Y_pred = lr.predict(X_val)\n",
    "\n",
    "print(f'RMSE of validation (LinearRegression): {sqrt(mean_squared_error(Y_val, Y_pred)):.2f}')"
   ]
  },
  {
   "cell_type": "code",
   "execution_count": 6,
   "id": "2dd694c0",
   "metadata": {},
   "outputs": [
    {
     "name": "stdout",
     "output_type": "stream",
     "text": [
      "RMSE on train (Lasso): 9.94\n",
      "RMSE of validation (Lasso): 10.06\n"
     ]
    }
   ],
   "source": [
    "ls = Lasso()\n",
    "\n",
    "Y_train = df_train['duration'].values\n",
    "ls.fit(X_train, Y_train)\n",
    "Y_pred = ls.predict(X_train)\n",
    "\n",
    "print(f'RMSE on train (Lasso): {sqrt(mean_squared_error(Y_train, Y_pred)):.2f}')\n",
    "\n",
    "Y_val = df_val['duration'].values\n",
    "ls.fit(X_val, Y_val)\n",
    "Y_pred = ls.predict(X_val)\n",
    "\n",
    "print(f'RMSE of validation (Lasso): {sqrt(mean_squared_error(Y_val, Y_pred)):.2f}')"
   ]
  },
  {
   "cell_type": "code",
   "execution_count": 7,
   "id": "80920d96",
   "metadata": {},
   "outputs": [
    {
     "name": "stdout",
     "output_type": "stream",
     "text": [
      "RMSE on train (Ridge): 7.65\n",
      "RMSE of validation (Ridge): 7.78\n"
     ]
    }
   ],
   "source": [
    "lrid = Ridge()\n",
    "\n",
    "Y_train = df_train['duration'].values\n",
    "lrid.fit(X_train, Y_train)\n",
    "Y_pred = lrid.predict(X_train)\n",
    "\n",
    "print(f'RMSE on train (Ridge): {sqrt(mean_squared_error(Y_train, Y_pred)):.2f}')\n",
    "\n",
    "Y_val = df_val['duration'].values\n",
    "lrid.fit(X_val, Y_val)\n",
    "Y_pred = lrid.predict(X_val)\n",
    "\n",
    "print(f'RMSE of validation (Ridge): {sqrt(mean_squared_error(Y_val, Y_pred)):.2f}')"
   ]
  },
  {
   "cell_type": "code",
   "execution_count": null,
   "id": "275c52f5",
   "metadata": {},
   "outputs": [],
   "source": [
    "import pickle\n",
    "with open('models/lin_reg.bin', 'wb') as f_out:\n",
    "    pickle.dump((dv, lr, ls, lrid), f_out)"
   ]
  },
  {
   "cell_type": "code",
   "execution_count": 8,
   "id": "e745e7f5",
   "metadata": {},
   "outputs": [
    {
     "name": "stderr",
     "output_type": "stream",
     "text": [
      "/tmp/ipykernel_2208/4091541199.py:1: UserWarning: \n",
      "\n",
      "`distplot` is a deprecated function and will be removed in seaborn v0.14.0.\n",
      "\n",
      "Please adapt your code to use either `displot` (a figure-level function with\n",
      "similar flexibility) or `histplot` (an axes-level function for histograms).\n",
      "\n",
      "For a guide to updating your code to use the new functions, please see\n",
      "https://gist.github.com/mwaskom/de44147ed2974457ad6372750bbe5751\n",
      "\n",
      "  sns.distplot(Y_pred, label='Prediction')\n"
     ]
    },
    {
     "name": "stderr",
     "output_type": "stream",
     "text": [
      "/tmp/ipykernel_2208/4091541199.py:2: UserWarning: \n",
      "\n",
      "`distplot` is a deprecated function and will be removed in seaborn v0.14.0.\n",
      "\n",
      "Please adapt your code to use either `displot` (a figure-level function with\n",
      "similar flexibility) or `histplot` (an axes-level function for histograms).\n",
      "\n",
      "For a guide to updating your code to use the new functions, please see\n",
      "https://gist.github.com/mwaskom/de44147ed2974457ad6372750bbe5751\n",
      "\n",
      "  sns.distplot(Y_train, label='actual')\n"
     ]
    },
    {
     "data": {
      "text/plain": [
       "<matplotlib.legend.Legend at 0x7ff2bef537a0>"
      ]
     },
     "execution_count": 8,
     "metadata": {},
     "output_type": "execute_result"
    },
    {
     "data": {
      "image/png": "[encoded data removed]",
      "text/plain": [
       "<Figure size 640x480 with 1 Axes>"
      ]
     },
     "metadata": {},
     "output_type": "display_data"
    }
   ],
   "source": [
    "sns.distplot(Y_pred, label='Prediction')\n",
    "sns.distplot(Y_train, label='actual')\n",
    "\n",
    "plt.legend()"
   ]
  }
 ],
 "metadata": {
  "kernelspec": {
   "display_name": "Python 3",
   "language": "python",
   "name": "python3"
  },
  "language_info": {
   "codemirror_mode": {
    "name": "ipython",
    "version": 3
   },
   "file_extension": ".py",
   "mimetype": "text/x-python",
   "name": "python",
   "nbconvert_exporter": "python",
   "pygments_lexer": "ipython3",
   "version": "3.12.1"
  }
 },
 "nbformat": 4,
 "nbformat_minor": 5
}
