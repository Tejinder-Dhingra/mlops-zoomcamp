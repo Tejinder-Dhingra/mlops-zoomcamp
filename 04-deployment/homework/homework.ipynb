{
 "cells": [
  {
   "cell_type": "code",
   "execution_count": 1,
   "id": "28c11118",
   "metadata": {},
   "outputs": [
    {
     "name": "stdout",
     "output_type": "stream",
     "text": [
      "Found existing installation: scikit-learn 1.5.0\n",
      "Uninstalling scikit-learn-1.5.0:\n",
      "  Successfully uninstalled scikit-learn-1.5.0\n",
      "Collecting scikit-learn==1.5.0\n",
      "  Using cached scikit_learn-1.5.0-cp312-cp312-manylinux_2_17_x86_64.manylinux2014_x86_64.whl.metadata (11 kB)\n",
      "Requirement already satisfied: numpy>=1.19.5 in /usr/local/python/3.12.1/lib/python3.12/site-packages (from scikit-learn==1.5.0) (1.26.4)\n",
      "Requirement already satisfied: scipy>=1.6.0 in /home/codespace/.local/lib/python3.12/site-packages (from scikit-learn==1.5.0) (1.15.2)\n",
      "Requirement already satisfied: joblib>=1.2.0 in /home/codespace/.local/lib/python3.12/site-packages (from scikit-learn==1.5.0) (1.4.2)\n",
      "Requirement already satisfied: threadpoolctl>=3.1.0 in /home/codespace/.local/lib/python3.12/site-packages (from scikit-learn==1.5.0) (3.6.0)\n",
      "Using cached scikit_learn-1.5.0-cp312-cp312-manylinux_2_17_x86_64.manylinux2014_x86_64.whl (13.1 MB)\n",
      "Installing collected packages: scikit-learn\n",
      "Successfully installed scikit-learn-1.5.0\n",
      "Requirement already satisfied: pyarrow in /usr/local/python/3.12.1/lib/python3.12/site-packages (19.0.1)\n",
      "Requirement already satisfied: wget in /usr/local/python/3.12.1/lib/python3.12/site-packages (3.2)\n"
     ]
    }
   ],
   "source": [
    "!pip uninstall scikit-learn -y\n",
    "!pip install scikit-learn==1.5.0\n",
    "!pip install pyarrow\n",
    "!pip install wget\n"
   ]
  },
  {
   "cell_type": "markdown",
   "id": "b112f68e",
   "metadata": {},
   "source": [
    "# 04 - Deployment"
   ]
  },
  {
   "cell_type": "code",
   "execution_count": 1,
   "id": "0ef880a0",
   "metadata": {},
   "outputs": [],
   "source": [
    "import os\n",
    "import wget\n",
    "import pickle\n",
    "import platform\n",
    "import pandas as pd\n",
    "import subprocess as sp\n",
    "\n",
    "from glob import glob\n",
    "from argparse import ArgumentParser"
   ]
  },
  {
   "cell_type": "code",
   "execution_count": 2,
   "id": "56b0178c",
   "metadata": {},
   "outputs": [],
   "source": [
    "month = 3\n",
    "year = 2023\n",
    "input_dir = 'input'\n",
    "output_dir = 'output'\n",
    "trip_category = 'yellow'\n",
    "\n",
    "python_version = platform.python_version()\n",
    "filename = f'{trip_category}_tripdata_{year}-{month:02d}.parquet'\n",
    "input_file_url = f'https://d37ci6vzurychx.cloudfront.net/trip-data/{filename}'\n",
    "output_file = f'{output_dir}/{filename}'\n",
    "\n",
    "categorical = ['PULocationID', 'DOLocationID']"
   ]
  },
  {
   "cell_type": "code",
   "execution_count": 3,
   "id": "41c08294",
   "metadata": {},
   "outputs": [],
   "source": [
    "def read_data(filename):\n",
    "    df = pd.read_parquet(filename)\n",
    "    \n",
    "    df['duration'] = df.tpep_dropoff_datetime - df.tpep_pickup_datetime\n",
    "    df['duration'] = df.duration.dt.total_seconds() / 60\n",
    "\n",
    "    df = df[(df.duration >= 1) & (df.duration <= 60)].copy()\n",
    "\n",
    "    df[categorical] = df[categorical].fillna(-1).astype('int').astype('str')\n",
    "    \n",
    "    return df"
   ]
  },
  {
   "cell_type": "markdown",
   "id": "1b046a00",
   "metadata": {},
   "source": [
    "## Training model"
   ]
  },
  {
   "cell_type": "code",
   "execution_count": 4,
   "id": "4854399a",
   "metadata": {},
   "outputs": [],
   "source": [
    "if not os.path.exists(input_dir): \n",
    "    os.makedirs(input_dir)\n",
    "    input_file = wget.download(input_file_url, out=input_dir)\n",
    "else:\n",
    "    glob_str = f'{input_dir}/*.parquet'\n",
    "    input_file = glob(glob_str)\n",
    "\n",
    "df = read_data(input_file)\n",
    "with open('model.bin', 'rb') as f_in:\n",
    "    dv, model = pickle.load(f_in)\n",
    "\n",
    "dicts = df[categorical].to_dict(orient='records')\n",
    "X_val = dv.transform(dicts)\n",
    "y_pred = model.predict(X_val)"
   ]
  },
  {
   "cell_type": "markdown",
   "id": "021c0918",
   "metadata": {},
   "source": [
    "## Q1. Standard deviation"
   ]
  },
  {
   "cell_type": "code",
   "execution_count": 5,
   "id": "bf532ae7-1897-428c-ba0c-875ccaf7d76c",
   "metadata": {},
   "outputs": [
    {
     "name": "stdout",
     "output_type": "stream",
     "text": [
      "Standard Deviation = 6.247\n"
     ]
    }
   ],
   "source": [
    "print((f'Standard Deviation = {y_pred.std():.3f}'))"
   ]
  },
  {
   "cell_type": "markdown",
   "id": "2f5ea7db",
   "metadata": {},
   "source": [
    "## Q2. Preparing the output"
   ]
  },
  {
   "cell_type": "code",
   "execution_count": 6,
   "id": "a1f5b98e",
   "metadata": {},
   "outputs": [
    {
     "name": "stdout",
     "output_type": "stream",
     "text": [
      "yellow_tripdata_2023-03.parquet - 65.46M\n"
     ]
    }
   ],
   "source": [
    "df_result = pd.DataFrame()\n",
    "df_result['ride_id'] = f'{year:04d}/{month:02d}_' + df.index.astype('str')\n",
    "df_result['predicted_duration'] = y_pred\n",
    "\n",
    "if os.path.exists(output_file):\n",
    "    os.remove(output_file)\n",
    "else:\n",
    "    if not os.path.exists(output_dir): os.makedirs(output_dir)\n",
    "df_result.to_parquet(\n",
    "    output_file,\n",
    "    engine = 'pyarrow',\n",
    "    compression = None,\n",
    "    index = False,\n",
    "    \n",
    ")\n",
    "\n",
    "print(f'{filename} - {(os.path.getsize(output_file)/1024**2):.2f}M')"
   ]
  },
  {
   "cell_type": "markdown",
   "id": "079c5d74",
   "metadata": {},
   "source": [
    "## Q3. Creating the scoring script."
   ]
  },
  {
   "cell_type": "code",
   "execution_count": 17,
   "id": "49595aaa",
   "metadata": {},
   "outputs": [
    {
     "name": "stdout",
     "output_type": "stream",
     "text": [
      "\n"
     ]
    }
   ],
   "source": [
    "sp_out = sp.run([\"jupyter nbconvert --to script homework.ipynb\"], shell=True, capture_output=True)\n",
    "print(sp_out.stdout.decode()) "
   ]
  },
  {
   "cell_type": "markdown",
   "id": "d23e7161",
   "metadata": {},
   "source": [
    "## Q4. Creating virtual environment and fetching first hash of Scikit-learn."
   ]
  },
  {
   "cell_type": "code",
   "execution_count": 14,
   "id": "d2ecc38b",
   "metadata": {},
   "outputs": [
    {
     "name": "stdout",
     "output_type": "stream",
     "text": [
      "\n",
      "First hash of Scikit-learn dependency = \"sha256:057b991ac64b3e75c9c04b5f9395eaf19a6179244c089afdebaad98264bff37c\"\n"
     ]
    }
   ],
   "source": [
    "sp_out = sp.run([\"pip freeze | grep -e 'scikit' -e 'wget' -e 'pandas' -e 'pyarrow' > requirements.txt\"], shell=True, capture_output=True)\n",
    "print(sp_out.stdout.decode())\n",
    "cmd = f\"pipenv install -r requirements.txt --python={python_version}\"\n",
    "sp_out = sp.run([cmd], shell=True, capture_output=True)\n",
    "import json \n",
    "with open('Pipfile.lock', 'r') as f:\n",
    "    lock_data = json.load(f)\n",
    "print(f'First hash of Scikit-learn dependency = \"{lock_data['default']['scikit-learn']['hashes'][0]}\"')"
   ]
  }
 ],
 "metadata": {
  "kernelspec": {
   "display_name": "Python 3",
   "language": "python",
   "name": "python3"
  },
  "language_info": {
   "codemirror_mode": {
    "name": "ipython",
    "version": 3
   },
   "file_extension": ".py",
   "mimetype": "text/x-python",
   "name": "python",
   "nbconvert_exporter": "python",
   "pygments_lexer": "ipython3",
   "version": "3.12.1"
  }
 },
 "nbformat": 4,
 "nbformat_minor": 5
}
